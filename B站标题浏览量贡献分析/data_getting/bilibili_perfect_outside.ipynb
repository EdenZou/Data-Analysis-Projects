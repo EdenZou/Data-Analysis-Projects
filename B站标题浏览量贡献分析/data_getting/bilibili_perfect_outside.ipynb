{
 "cells": [
  {
   "cell_type": "code",
   "execution_count": 1,
   "metadata": {},
   "outputs": [],
   "source": [
    "from selenium import webdriver\n",
    "import time\n",
    "from bs4 import BeautifulSoup\n",
    "import re\n",
    "import csv"
   ]
  },
  {
   "cell_type": "markdown",
   "metadata": {},
   "source": [
    "### change the address for the webdriver in local computer"
   ]
  },
  {
   "cell_type": "code",
   "execution_count": 2,
   "metadata": {},
   "outputs": [],
   "source": [
    "# get the driver\n",
    "driver = webdriver.Chrome(r\"/Users/binxiwu/Documents/forSelenium/chromedriver\")"
   ]
  },
  {
   "cell_type": "markdown",
   "metadata": {},
   "source": [
    "### we get the data by categories and they are 4 kinds of categories below"
   ]
  },
  {
   "cell_type": "code",
   "execution_count": 4,
   "metadata": {},
   "outputs": [],
   "source": [
    "# for food category\n",
    "driver.get(\"https://www.bilibili.com/v/life/food/#/all/click/0/1/2019-06-01,2019-09-01\")\n",
    "\n",
    "# for fitness category\n",
    "# driver.get(\"https://www.bilibili.com/v/fashion/aerobics/#/all/click/0/1/2019-06-01,2019-09-01\")\n",
    "\n",
    "# for funny category\n",
    "# driver.get(\"https://www.bilibili.com/v/life/funny/#/all/click/0/1/2019-06-01,2019-09-01\")\n",
    "\n",
    "# for fashion category\n",
    "# driver.get(\"https://www.bilibili.com/v/fashion/makeup/#/all/click/0/1/2019-06-01,2019-09-01\")\n",
    "\n",
    "# use beautiful soup\n",
    "soup = BeautifulSoup(driver.page_source)\n",
    "\n",
    "# the Data list will be used to stored the targeting information from Bilibili\n",
    "Data = []"
   ]
  },
  {
   "cell_type": "markdown",
   "metadata": {},
   "source": [
    "### we intend to get information from 300 pages, the first page is different from the others"
   ]
  },
  {
   "cell_type": "code",
   "execution_count": null,
   "metadata": {},
   "outputs": [],
   "source": [
    "ul = soup.find(class_=\"vd-list mod-2\")\n",
    "\n",
    "# there are 20 video in each page\n",
    "for i in range(20):\n",
    "    li = ul.find_all('li')\n",
    "    url = li[i].find_all('a',{'target':'_blank'})[0].get('href')\n",
    "    y = re.findall('av[0-9].+', url)\n",
    "    \n",
    "    # the link will be used to get further information of a video\n",
    "    link = 'https://www.bilibili.com/video/' + y[0]\n",
    "    \n",
    "    # title is the name of the video\n",
    "    title = li[i].find_all('p', {'class':'t'})[0].get('title')\n",
    "    \n",
    "    # view is the number of the view\n",
    "    view = li[i].find_all('span',{'class':'play'})[0].text.strip()\n",
    "    \n",
    "    # danmu is the comment on the screen\n",
    "    danmu = li[i].find_all('span',{'class':'danmu'})[0].text.strip()\n",
    "    \n",
    "    # author is the creator\n",
    "    author = li[i].find_all('div',{'class':'up-info'})[0].a.get('title')\n",
    "\n",
    "\n",
    "    Data.append([link, title, view, danmu, author])\n",
    "\n",
    "\n",
    "driver.find_element_by_xpath('//*[@id=\"videolist_box\"]/div[2]/div[2]/ul/li[7]/button').click()\n",
    "time.sleep(2)"
   ]
  },
  {
   "cell_type": "markdown",
   "metadata": {},
   "source": [
    "### the second and third pages are different from the others"
   ]
  },
  {
   "cell_type": "code",
   "execution_count": null,
   "metadata": {},
   "outputs": [],
   "source": [
    "## 2 to 3 pages\n",
    "for page in range (2):\n",
    "\n",
    "    soup = BeautifulSoup(driver.page_source)\n",
    "    ul = soup.find(class_=\"vd-list mod-2\")\n",
    "\n",
    "    for i in range(20):\n",
    "        li = ul.find_all('li')\n",
    "        url = li[i].find_all('a',{'target':'_blank'})[0].get('href')\n",
    "        y = re.findall('av[0-9].+', url)\n",
    "        link = 'https://www.bilibili.com/video/' + y[0]\n",
    "        title = li[i].find_all('p', {'class':'t'})[0].get('title')\n",
    "        view = li[i].find_all('span',{'class':'play'})[0].text.strip()\n",
    "        danmu = li[i].find_all('span',{'class':'danmu'})[0].text.strip()\n",
    "        author = li[i].find_all('div',{'class':'up-info'})[0].a.get('title')\n",
    "\n",
    "        Data.append([link, title, view, danmu, author])\n",
    "    \n",
    "    \n",
    "    driver.find_element_by_xpath('//*[@id=\"videolist_box\"]/div[2]/div[2]/ul/li[8]/button').click()\n",
    "    time.sleep(2)"
   ]
  },
  {
   "cell_type": "markdown",
   "metadata": {},
   "source": [
    "### page 4 to page 300 are the same"
   ]
  },
  {
   "cell_type": "code",
   "execution_count": 6,
   "metadata": {
    "scrolled": true
   },
   "outputs": [],
   "source": [
    " ## 3 to above\n",
    "for page in range (297):\n",
    "\n",
    "    soup = BeautifulSoup(driver.page_source)\n",
    "    ul = soup.find(class_=\"vd-list mod-2\")\n",
    "\n",
    "    for i in range(20):\n",
    "        li = ul.find_all('li')\n",
    "        url = li[i].find_all('a',{'target':'_blank'})[0].get('href')\n",
    "        y = re.findall('av[0-9].+', url)\n",
    "        link = 'https://www.bilibili.com/video/' + y[0]\n",
    "        title = li[i].find_all('p', {'class':'t'})[0].get('title')\n",
    "        view = li[i].find_all('span',{'class':'play'})[0].text.strip()\n",
    "        danmu = li[i].find_all('span',{'class':'danmu'})[0].text.strip()\n",
    "        author = li[i].find_all('div',{'class':'up-info'})[0].a.get('title')\n",
    "\n",
    "        Data.append([link, title, view, danmu, author])    \n",
    "    \n",
    "    driver.find_element_by_xpath('//*[@id=\"videolist_box\"]/div[2]/div[2]/ul/li[9]/button').click()\n",
    "    time.sleep(3)"
   ]
  },
  {
   "cell_type": "code",
   "execution_count": 15,
   "metadata": {},
   "outputs": [],
   "source": [
    "outfile = open('../data/Bilibili_outside_funny.csv', 'w', newline='')\n",
    "writer = csv.writer(outfile)\n",
    "writer.writerow(['link', 'title', 'view', 'danmu', 'author'])\n",
    "writer.writerows(Data)\n",
    "outfile.close()\n",
    "driver.close()"
   ]
  }
 ],
 "metadata": {
  "kernelspec": {
   "display_name": "Python 3",
   "language": "python",
   "name": "python3"
  },
  "language_info": {
   "codemirror_mode": {
    "name": "ipython",
    "version": 3
   },
   "file_extension": ".py",
   "mimetype": "text/x-python",
   "name": "python",
   "nbconvert_exporter": "python",
   "pygments_lexer": "ipython3",
   "version": "3.7.3"
  }
 },
 "nbformat": 4,
 "nbformat_minor": 2
}
