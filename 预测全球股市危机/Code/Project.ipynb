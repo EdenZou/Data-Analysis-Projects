{
 "cells": [
  {
   "cell_type": "code",
   "execution_count": 1,
   "metadata": {},
   "outputs": [],
   "source": [
    "import pandas as pd\n",
    "import numpy as np\n",
    "\n",
    "import matplotlib.pyplot as plt\n",
    "import seaborn as sns\n",
    "\n",
    "from sklearn.metrics import accuracy_score, recall_score, confusion_matrix, precision_recall_curve, auc, roc_curve, roc_auc_score\n",
    "\n",
    "from sklearn.linear_model import LogisticRegression\n",
    "from sklearn.tree import DecisionTreeClassifier\n",
    "from sklearn.ensemble import RandomForestClassifier\n",
    "from sklearn.svm import SVC\n",
    "import xgboost as xgb\n",
    "\n",
    "from sklearn.model_selection import KFold,TimeSeriesSplit\n",
    "from sklearn.model_selection import GridSearchCV\n",
    "\n",
    "import time"
   ]
  },
  {
   "cell_type": "code",
   "execution_count": 2,
   "metadata": {},
   "outputs": [],
   "source": [
    "def ml_classification(X, X_test, y, y_test, params=None, n_folds=5, model_type='xgb',\n",
    "                    columns=None, model=None, verbose=10000,\n",
    "                    early_stopping_rounds=200, n_estimator=20000, roc=False):\n",
    "    \"\"\"\n",
    "    :params: X - training data, can be pd.DataFrame or np.ndarray \n",
    "    :params: X_test - test data, can be pd.DataFrame or np.ndarray\n",
    "    :params: y - target\n",
    "    :params: n_folds - folds to split data\n",
    "    :params: model_type - type of model to use\n",
    "    :params: columns - columns to use for modeling. If None - use all columns\n",
    "    :params: model - sklearn model, works only for \"sklearn\" model type\n",
    "    :params: roc - plot roc curve if true, default False.\n",
    "    \"\"\"\n",
    "    columns = X.columns if columns is None else columns\n",
    "    X_test = X_test[columns]\n",
    "    folds = KFold(n_splits=n_folds)\n",
    "    splits = folds.split(X[columns], y)\n",
    "    y_pred = np.zeros(X_test.shape[0])\n",
    "    \n",
    "    for fold_n, (train_index, valid_index) in enumerate(splits):\n",
    "        print(f'Fold {fold_n+1} startd at {time.ctime()}')\n",
    "        # handle different data type\n",
    "        if type(X) == np.ndarray:\n",
    "            X_train, X_valid = X[columns][train_index], X[columns][valid_index]\n",
    "            y_train, y_valid = y[train_index], y[valid_index]\n",
    "        else:\n",
    "            X_train, X_valid = X[columns].iloc[train_index], X[columns].iloc[valid_index]\n",
    "            y_train, y_valid = y.iloc[train_index], y.iloc[valid_index]\n",
    "        # xgboost\n",
    "        if model_type == 'xgb':\n",
    "            train_set = xgb.DMatrix(X_train, y_train)\n",
    "            valid_set = xgb.DMatrix(X_valid, y_valid)\n",
    "            test_set = xgb.DMatrix(X_test)\n",
    "            watchlist = [(train_set, 'train'), (valid_set, 'valid_data')]\n",
    "            clf = xgb.train(dtrain=train_set, params=params, num_boost_round=n_estimator,evals=watchlist, early_stopping_rounds=early_stopping_rounds,verbose_eval=verbose)\n",
    "            y_pred += clf.predict(test_set) / n_folds\n",
    "        # sklearn\n",
    "        if model_type == 'sklearn':\n",
    "            clf = model\n",
    "            clf.fit(X_train, y_train)\n",
    "            \n",
    "            y_pred_valid = clf.predict(X_valid).reshape(-1,)\n",
    "            #score = roc_auc_score(y_valid, y_pred_valid)\n",
    "            #print(f'Fold {fold_n}. auc: {score:.4f}.')\n",
    "            print('')\n",
    "            \n",
    "            y_pred += clf.predict_proba(X_test)[:,1] / n_folds\n",
    "    \n",
    "    if roc:\n",
    "        fpr, tpr, threshold = roc_curve(y_test, y_pred)\n",
    "        roc_auc = auc(fpr, tpr)\n",
    "        \n",
    "        plt.figure()\n",
    "        lw = 2\n",
    "        plt.figure(figsize=(5,5))\n",
    "        plt.plot(fpr, tpr, color='darkorange',\n",
    "                 lw=lw, label='ROC curve (area = %0.2f)' % roc_auc) ###假正率为横坐标，真正率为纵坐标做曲线\n",
    "        plt.plot([0, 1], [0, 1], color='navy', lw=lw, linestyle='--')\n",
    "        plt.xlim([0.0, 1.0])\n",
    "        plt.ylim([0.0, 1.05])\n",
    "        plt.xlabel('False Positive Rate')\n",
    "        plt.ylabel('True Positive Rate')\n",
    "        plt.title('ROC curve')\n",
    "        plt.legend(loc=\"lower right\")\n",
    "        plt.show()\n",
    "    return y_pred"
   ]
  },
  {
   "cell_type": "markdown",
   "metadata": {},
   "source": [
    "# Loading Data"
   ]
  },
  {
   "cell_type": "code",
   "execution_count": 3,
   "metadata": {},
   "outputs": [],
   "source": [
    "GC_Balanced = pd.read_csv('../data/balanced/crisis.nextday.balanced.csv')\n",
    "GC20_Balanced = pd.read_csv('../data/balanced/crisis20.balanced.csv')\n",
    "X_test = pd.read_csv('../data/balanced/test_data_imblanced.csv')"
   ]
  },
  {
   "cell_type": "markdown",
   "metadata": {},
   "source": [
    "# Global Crisis Forecast"
   ]
  },
  {
   "cell_type": "code",
   "execution_count": 40,
   "metadata": {},
   "outputs": [],
   "source": [
    "X = GC_Balanced\n",
    "y = GC_Balanced['Global.Crisis']\n",
    "columns = [x for x in X.columns if x not in ['Date','Global.Crisis',\n",
    "                                             'Global.Crisis.20']]\n",
    "y_test = X_test['Global.Crisis']"
   ]
  },
  {
   "cell_type": "markdown",
   "metadata": {},
   "source": [
    "## Logistic Regression"
   ]
  },
  {
   "cell_type": "code",
   "execution_count": 41,
   "metadata": {},
   "outputs": [
    {
     "name": "stdout",
     "output_type": "stream",
     "text": [
      "Fold 1 startd at Thu Apr  9 23:02:34 2020\n",
      "\n",
      "Fold 2 startd at Thu Apr  9 23:02:34 2020\n",
      "\n",
      "Fold 3 startd at Thu Apr  9 23:02:34 2020\n",
      "\n",
      "Fold 4 startd at Thu Apr  9 23:02:34 2020\n",
      "\n",
      "Fold 5 startd at Thu Apr  9 23:02:34 2020\n"
     ]
    },
    {
     "name": "stderr",
     "output_type": "stream",
     "text": [
      "C:\\ProgramData\\Anaconda3\\lib\\site-packages\\sklearn\\linear_model\\logistic.py:432: FutureWarning: Default solver will be changed to 'lbfgs' in 0.22. Specify a solver to silence this warning.\n",
      "  FutureWarning)\n",
      "C:\\ProgramData\\Anaconda3\\lib\\site-packages\\sklearn\\linear_model\\logistic.py:432: FutureWarning: Default solver will be changed to 'lbfgs' in 0.22. Specify a solver to silence this warning.\n",
      "  FutureWarning)\n",
      "C:\\ProgramData\\Anaconda3\\lib\\site-packages\\sklearn\\linear_model\\logistic.py:432: FutureWarning: Default solver will be changed to 'lbfgs' in 0.22. Specify a solver to silence this warning.\n",
      "  FutureWarning)\n",
      "C:\\ProgramData\\Anaconda3\\lib\\site-packages\\sklearn\\linear_model\\logistic.py:432: FutureWarning: Default solver will be changed to 'lbfgs' in 0.22. Specify a solver to silence this warning.\n",
      "  FutureWarning)\n",
      "C:\\ProgramData\\Anaconda3\\lib\\site-packages\\sklearn\\linear_model\\logistic.py:432: FutureWarning: Default solver will be changed to 'lbfgs' in 0.22. Specify a solver to silence this warning.\n",
      "  FutureWarning)\n"
     ]
    },
    {
     "name": "stdout",
     "output_type": "stream",
     "text": [
      "\n"
     ]
    },
    {
     "data": {
      "text/plain": [
       "<Figure size 432x288 with 0 Axes>"
      ]
     },
     "metadata": {},
     "output_type": "display_data"
    },
    {
     "data": {
      "image/png": "[encoded data removed]",
      "text/plain": [
       "<Figure size 360x360 with 1 Axes>"
      ]
     },
     "metadata": {
      "needs_background": "light"
     },
     "output_type": "display_data"
    }
   ],
   "source": [
    "clf_lr = LogisticRegression()\n",
    "y_pred = ml_classification(X, X_test, y, y_test, n_folds=5, model_type='sklearn',\n",
    "                 columns=columns, model=clf_lr, roc=True)"
   ]
  },
  {
   "cell_type": "code",
   "execution_count": 42,
   "metadata": {},
   "outputs": [
    {
     "data": {
      "text/plain": [
       "array([[661,   1],\n",
       "       [ 30,   1]], dtype=int64)"
      ]
     },
     "execution_count": 42,
     "metadata": {},
     "output_type": "execute_result"
    }
   ],
   "source": [
    "confusion_matrix((y_pred > 0.5).astype('int'), y_test)"
   ]
  },
  {
   "cell_type": "markdown",
   "metadata": {},
   "source": [
    "## Decision Tree"
   ]
  },
  {
   "cell_type": "code",
   "execution_count": 47,
   "metadata": {},
   "outputs": [
    {
     "name": "stdout",
     "output_type": "stream",
     "text": [
      "Fold 1 startd at Thu Apr  9 23:03:48 2020\n",
      "\n",
      "Fold 2 startd at Thu Apr  9 23:03:48 2020\n",
      "\n",
      "Fold 3 startd at Thu Apr  9 23:03:48 2020\n",
      "\n",
      "Fold 4 startd at Thu Apr  9 23:03:48 2020\n",
      "\n",
      "Fold 5 startd at Thu Apr  9 23:03:48 2020\n",
      "\n"
     ]
    },
    {
     "data": {
      "text/plain": [
       "<Figure size 432x288 with 0 Axes>"
      ]
     },
     "metadata": {},
     "output_type": "display_data"
    },
    {
     "data": {
      "image/png": "[encoded data removed]",
      "text/plain": [
       "<Figure size 360x360 with 1 Axes>"
      ]
     },
     "metadata": {
      "needs_background": "light"
     },
     "output_type": "display_data"
    }
   ],
   "source": [
    "clf_tree = DecisionTreeClassifier(criterion='gini', max_depth=5,\n",
    "                                 min_impurity_decrease=0.1)\n",
    "y_pred = ml_classification(X, X_test, y, y_test, n_folds=5, model_type='sklearn',\n",
    "                 columns=columns, model=clf_tree, roc=True)"
   ]
  },
  {
   "cell_type": "code",
   "execution_count": 48,
   "metadata": {},
   "outputs": [
    {
     "data": {
      "text/plain": [
       "array([[672,   0],\n",
       "       [ 19,   2]], dtype=int64)"
      ]
     },
     "execution_count": 48,
     "metadata": {},
     "output_type": "execute_result"
    }
   ],
   "source": [
    "confusion_matrix((y_pred > 0.5).astype('int'), y_test)"
   ]
  },
  {
   "cell_type": "markdown",
   "metadata": {},
   "source": [
    "## Random Forest"
   ]
  },
  {
   "cell_type": "code",
   "execution_count": 9,
   "metadata": {},
   "outputs": [
    {
     "name": "stdout",
     "output_type": "stream",
     "text": [
      "Fold 1 startd at Thu Apr  9 22:16:48 2020\n",
      "\n",
      "Fold 2 startd at Thu Apr  9 22:16:48 2020\n",
      "\n",
      "Fold 3 startd at Thu Apr  9 22:16:48 2020\n",
      "\n",
      "Fold 4 startd at Thu Apr  9 22:16:48 2020\n",
      "\n",
      "Fold 5 startd at Thu Apr  9 22:16:48 2020\n",
      "\n"
     ]
    },
    {
     "data": {
      "text/plain": [
       "<Figure size 432x288 with 0 Axes>"
      ]
     },
     "metadata": {},
     "output_type": "display_data"
    },
    {
     "data": {
      "image/png": "[encoded data removed]",
      "text/plain": [
       "<Figure size 360x360 with 1 Axes>"
      ]
     },
     "metadata": {
      "needs_background": "light"
     },
     "output_type": "display_data"
    }
   ],
   "source": [
    "clf_rf = RandomForestClassifier(max_depth=5, n_estimators=10)\n",
    "y_pred = ml_classification(X, X_test, y, y_test, n_folds=5, model_type='sklearn',\n",
    "                 columns=columns, model=clf_rf, roc=True)"
   ]
  },
  {
   "cell_type": "code",
   "execution_count": 25,
   "metadata": {},
   "outputs": [
    {
     "data": {
      "text/plain": [
       "array([[681,   1],\n",
       "       [ 10,   1]], dtype=int64)"
      ]
     },
     "execution_count": 25,
     "metadata": {},
     "output_type": "execute_result"
    }
   ],
   "source": [
    "confusion_matrix((y_pred > 0.5).astype('int'), y_test)"
   ]
  },
  {
   "cell_type": "markdown",
   "metadata": {},
   "source": [
    "## XGBoost"
   ]
  },
  {
   "cell_type": "code",
   "execution_count": 16,
   "metadata": {},
   "outputs": [
    {
     "name": "stdout",
     "output_type": "stream",
     "text": [
      "Fold 1 startd at Thu Apr  9 22:18:39 2020\n",
      "[0]\ttrain-logloss:0.692164\tvalid_data-logloss:0.692186\n",
      "Multiple eval metrics have been passed: 'valid_data-logloss' will be used for early stopping.\n",
      "\n",
      "Will train until valid_data-logloss hasn't improved in 200 rounds.\n",
      "Stopping. Best iteration:\n",
      "[4850]\ttrain-logloss:0.010067\tvalid_data-logloss:0.056477\n",
      "\n",
      "Fold 2 startd at Thu Apr  9 22:19:16 2020\n",
      "[0]\ttrain-logloss:0.692169\tvalid_data-logloss:0.692204\n",
      "Multiple eval metrics have been passed: 'valid_data-logloss' will be used for early stopping.\n",
      "\n",
      "Will train until valid_data-logloss hasn't improved in 200 rounds.\n",
      "Stopping. Best iteration:\n",
      "[5823]\ttrain-logloss:0.005213\tvalid_data-logloss:0.071997\n",
      "\n",
      "Fold 3 startd at Thu Apr  9 22:20:01 2020\n",
      "[0]\ttrain-logloss:0.692174\tvalid_data-logloss:0.692178\n",
      "Multiple eval metrics have been passed: 'valid_data-logloss' will be used for early stopping.\n",
      "\n",
      "Will train until valid_data-logloss hasn't improved in 200 rounds.\n",
      "[10000]\ttrain-logloss:0.001872\tvalid_data-logloss:0.012461\n",
      "Stopping. Best iteration:\n",
      "[14088]\ttrain-logloss:0.001836\tvalid_data-logloss:0.012313\n",
      "\n",
      "Fold 4 startd at Thu Apr  9 22:21:41 2020\n",
      "[0]\ttrain-logloss:0.69217\tvalid_data-logloss:0.69218\n",
      "Multiple eval metrics have been passed: 'valid_data-logloss' will be used for early stopping.\n",
      "\n",
      "Will train until valid_data-logloss hasn't improved in 200 rounds.\n",
      "Stopping. Best iteration:\n",
      "[9674]\ttrain-logloss:0.001883\tvalid_data-logloss:0.002405\n",
      "\n",
      "Fold 5 startd at Thu Apr  9 22:23:04 2020\n",
      "[0]\ttrain-logloss:0.69217\tvalid_data-logloss:0.692179\n",
      "Multiple eval metrics have been passed: 'valid_data-logloss' will be used for early stopping.\n",
      "\n",
      "Will train until valid_data-logloss hasn't improved in 200 rounds.\n",
      "Stopping. Best iteration:\n",
      "[9687]\ttrain-logloss:0.00186\tvalid_data-logloss:0.002328\n",
      "\n"
     ]
    },
    {
     "data": {
      "text/plain": [
       "<Figure size 432x288 with 0 Axes>"
      ]
     },
     "metadata": {},
     "output_type": "display_data"
    },
    {
     "data": {
      "image/png": "[encoded data removed]",
      "text/plain": [
       "<Figure size 360x360 with 1 Axes>"
      ]
     },
     "metadata": {
      "needs_background": "light"
     },
     "output_type": "display_data"
    }
   ],
   "source": [
    "params_xgb = {\n",
    "    'objective': 'binary:logistic',\n",
    "    'eval_metric': 'logloss',\n",
    "    'max_depth': 10,\n",
    "    'learning_rate': 0.001,\n",
    "    'gamma': 0.25,\n",
    "    'subsample': 1,\n",
    "    'verbosity': 0\n",
    "}\n",
    "y_pred = ml_classification(X, X_test, y, y_test, params=params_xgb,\n",
    "                           n_folds=5, model_type='xgb',\n",
    "                           columns=columns, roc=True)"
   ]
  },
  {
   "cell_type": "code",
   "execution_count": 24,
   "metadata": {},
   "outputs": [
    {
     "data": {
      "text/plain": [
       "array([[681,   1],\n",
       "       [ 10,   1]], dtype=int64)"
      ]
     },
     "execution_count": 24,
     "metadata": {},
     "output_type": "execute_result"
    }
   ],
   "source": [
    "confusion_matrix((y_pred > 0.5).astype('int'), y_test)"
   ]
  },
  {
   "cell_type": "markdown",
   "metadata": {},
   "source": [
    "# Global Crisis 20"
   ]
  },
  {
   "cell_type": "code",
   "execution_count": 28,
   "metadata": {},
   "outputs": [],
   "source": [
    "X = GC20_Balanced\n",
    "y = GC20_Balanced['Global.Crisis.20']\n",
    "columns = [x for x in X.columns if x not in ['Date','Global.Crisis',\n",
    "                                             'Global.Crisis.20']]\n",
    "y_test = X_test['Global.Crisis.20']"
   ]
  },
  {
   "cell_type": "markdown",
   "metadata": {},
   "source": [
    "## Logistic Regression"
   ]
  },
  {
   "cell_type": "code",
   "execution_count": 29,
   "metadata": {},
   "outputs": [
    {
     "name": "stdout",
     "output_type": "stream",
     "text": [
      "Fold 1 startd at Thu Apr  9 22:26:49 2020\n",
      "\n",
      "Fold 2 startd at Thu Apr  9 22:26:49 2020\n",
      "\n",
      "Fold 3 startd at Thu Apr  9 22:26:49 2020\n",
      "\n",
      "Fold 4 startd at Thu Apr  9 22:26:50 2020\n"
     ]
    },
    {
     "name": "stderr",
     "output_type": "stream",
     "text": [
      "C:\\ProgramData\\Anaconda3\\lib\\site-packages\\sklearn\\linear_model\\logistic.py:432: FutureWarning: Default solver will be changed to 'lbfgs' in 0.22. Specify a solver to silence this warning.\n",
      "  FutureWarning)\n",
      "C:\\ProgramData\\Anaconda3\\lib\\site-packages\\sklearn\\linear_model\\logistic.py:432: FutureWarning: Default solver will be changed to 'lbfgs' in 0.22. Specify a solver to silence this warning.\n",
      "  FutureWarning)\n",
      "C:\\ProgramData\\Anaconda3\\lib\\site-packages\\sklearn\\linear_model\\logistic.py:432: FutureWarning: Default solver will be changed to 'lbfgs' in 0.22. Specify a solver to silence this warning.\n",
      "  FutureWarning)\n",
      "C:\\ProgramData\\Anaconda3\\lib\\site-packages\\sklearn\\linear_model\\logistic.py:432: FutureWarning: Default solver will be changed to 'lbfgs' in 0.22. Specify a solver to silence this warning.\n",
      "  FutureWarning)\n"
     ]
    },
    {
     "name": "stdout",
     "output_type": "stream",
     "text": [
      "\n",
      "Fold 5 startd at Thu Apr  9 22:26:50 2020\n",
      "\n"
     ]
    },
    {
     "name": "stderr",
     "output_type": "stream",
     "text": [
      "C:\\ProgramData\\Anaconda3\\lib\\site-packages\\sklearn\\linear_model\\logistic.py:432: FutureWarning: Default solver will be changed to 'lbfgs' in 0.22. Specify a solver to silence this warning.\n",
      "  FutureWarning)\n"
     ]
    },
    {
     "data": {
      "text/plain": [
       "<Figure size 432x288 with 0 Axes>"
      ]
     },
     "metadata": {},
     "output_type": "display_data"
    },
    {
     "data": {
      "image/png": "[encoded data removed]",
      "text/plain": [
       "<Figure size 360x360 with 1 Axes>"
      ]
     },
     "metadata": {
      "needs_background": "light"
     },
     "output_type": "display_data"
    }
   ],
   "source": [
    "clf_lr = LogisticRegression()\n",
    "y_pred = ml_classification(X, X_test, y, y_test, n_folds=5, model_type='sklearn',\n",
    "                 columns=columns, model=clf_lr, roc=True)"
   ]
  },
  {
   "cell_type": "code",
   "execution_count": 30,
   "metadata": {},
   "outputs": [
    {
     "data": {
      "text/plain": [
       "array([[593,   8],\n",
       "       [ 54,  38]], dtype=int64)"
      ]
     },
     "execution_count": 30,
     "metadata": {},
     "output_type": "execute_result"
    }
   ],
   "source": [
    "confusion_matrix((y_pred > 0.5).astype('int'), y_test)"
   ]
  },
  {
   "cell_type": "markdown",
   "metadata": {},
   "source": [
    "## Decision Tree"
   ]
  },
  {
   "cell_type": "code",
   "execution_count": 31,
   "metadata": {},
   "outputs": [
    {
     "name": "stdout",
     "output_type": "stream",
     "text": [
      "Fold 1 startd at Thu Apr  9 22:28:33 2020\n",
      "\n",
      "Fold 2 startd at Thu Apr  9 22:28:33 2020\n",
      "\n",
      "Fold 3 startd at Thu Apr  9 22:28:33 2020\n",
      "\n",
      "Fold 4 startd at Thu Apr  9 22:28:33 2020\n",
      "\n",
      "Fold 5 startd at Thu Apr  9 22:28:33 2020\n",
      "\n"
     ]
    },
    {
     "data": {
      "text/plain": [
       "<Figure size 432x288 with 0 Axes>"
      ]
     },
     "metadata": {},
     "output_type": "display_data"
    },
    {
     "data": {
      "image/png": "[encoded data removed]",
      "text/plain": [
       "<Figure size 360x360 with 1 Axes>"
      ]
     },
     "metadata": {
      "needs_background": "light"
     },
     "output_type": "display_data"
    }
   ],
   "source": [
    "clf_tree = DecisionTreeClassifier(criterion='gini', max_depth=5,\n",
    "                                 min_impurity_decrease=0.01)\n",
    "y_pred = ml_classification(X, X_test, y, y_test, n_folds=5, model_type='sklearn',\n",
    "                 columns=columns, model=clf_tree, roc=True)"
   ]
  },
  {
   "cell_type": "code",
   "execution_count": 32,
   "metadata": {},
   "outputs": [
    {
     "data": {
      "text/plain": [
       "array([[584,   0],\n",
       "       [ 63,  46]], dtype=int64)"
      ]
     },
     "execution_count": 32,
     "metadata": {},
     "output_type": "execute_result"
    }
   ],
   "source": [
    "confusion_matrix((y_pred > 0.5).astype('int'), y_test)"
   ]
  },
  {
   "cell_type": "markdown",
   "metadata": {},
   "source": [
    "## Random Forest"
   ]
  },
  {
   "cell_type": "code",
   "execution_count": 33,
   "metadata": {},
   "outputs": [
    {
     "name": "stdout",
     "output_type": "stream",
     "text": [
      "Fold 1 startd at Thu Apr  9 22:29:13 2020\n",
      "\n",
      "Fold 2 startd at Thu Apr  9 22:29:13 2020\n",
      "\n",
      "Fold 3 startd at Thu Apr  9 22:29:13 2020\n",
      "\n",
      "Fold 4 startd at Thu Apr  9 22:29:13 2020\n",
      "\n",
      "Fold 5 startd at Thu Apr  9 22:29:13 2020\n",
      "\n"
     ]
    },
    {
     "data": {
      "text/plain": [
       "<Figure size 432x288 with 0 Axes>"
      ]
     },
     "metadata": {},
     "output_type": "display_data"
    },
    {
     "data": {
      "image/png": "[encoded data removed]",
      "text/plain": [
       "<Figure size 360x360 with 1 Axes>"
      ]
     },
     "metadata": {
      "needs_background": "light"
     },
     "output_type": "display_data"
    }
   ],
   "source": [
    "clf_rf = RandomForestClassifier(max_depth=5, n_estimators=10)\n",
    "y_pred = ml_classification(X, X_test, y, y_test, n_folds=5, model_type='sklearn',\n",
    "                 columns=columns, model=clf_rf, roc=True)"
   ]
  },
  {
   "cell_type": "code",
   "execution_count": 37,
   "metadata": {},
   "outputs": [
    {
     "data": {
      "text/plain": [
       "array([[619,   0],\n",
       "       [ 28,  46]], dtype=int64)"
      ]
     },
     "execution_count": 37,
     "metadata": {},
     "output_type": "execute_result"
    }
   ],
   "source": [
    "confusion_matrix((y_pred > 0.5).astype('int'), y_test)"
   ]
  },
  {
   "cell_type": "markdown",
   "metadata": {},
   "source": [
    "## XGBoost"
   ]
  },
  {
   "cell_type": "code",
   "execution_count": 38,
   "metadata": {},
   "outputs": [
    {
     "name": "stdout",
     "output_type": "stream",
     "text": [
      "Fold 1 startd at Thu Apr  9 22:30:07 2020\n",
      "[0]\ttrain-logloss:0.69223\tvalid_data-logloss:0.692322\n",
      "Multiple eval metrics have been passed: 'valid_data-logloss' will be used for early stopping.\n",
      "\n",
      "Will train until valid_data-logloss hasn't improved in 200 rounds.\n"
     ]
    },
    {
     "name": "stderr",
     "output_type": "stream",
     "text": [
      "C:\\ProgramData\\Anaconda3\\lib\\site-packages\\xgboost\\core.py:587: FutureWarning: Series.base is deprecated and will be removed in a future version\n",
      "  if getattr(data, 'base', None) is not None and \\\n"
     ]
    },
    {
     "name": "stdout",
     "output_type": "stream",
     "text": [
      "Stopping. Best iteration:\n",
      "[9320]\ttrain-logloss:0.003209\tvalid_data-logloss:0.048979\n",
      "\n",
      "Fold 2 startd at Thu Apr  9 22:31:53 2020\n",
      "[0]\ttrain-logloss:0.692243\tvalid_data-logloss:0.692264\n",
      "Multiple eval metrics have been passed: 'valid_data-logloss' will be used for early stopping.\n",
      "\n",
      "Will train until valid_data-logloss hasn't improved in 200 rounds.\n",
      "Stopping. Best iteration:\n",
      "[9364]\ttrain-logloss:0.003255\tvalid_data-logloss:0.023731\n",
      "\n",
      "Fold 3 startd at Thu Apr  9 22:33:42 2020\n",
      "[0]\ttrain-logloss:0.692195\tvalid_data-logloss:0.692223\n",
      "Multiple eval metrics have been passed: 'valid_data-logloss' will be used for early stopping.\n",
      "\n",
      "Will train until valid_data-logloss hasn't improved in 200 rounds.\n",
      "[10000]\ttrain-logloss:0.003157\tvalid_data-logloss:0.012214\n",
      "Stopping. Best iteration:\n",
      "[11507]\ttrain-logloss:0.002977\tvalid_data-logloss:0.012054\n",
      "\n",
      "Fold 4 startd at Thu Apr  9 22:36:01 2020\n",
      "[0]\ttrain-logloss:0.692198\tvalid_data-logloss:0.692231\n",
      "Multiple eval metrics have been passed: 'valid_data-logloss' will be used for early stopping.\n",
      "\n",
      "Will train until valid_data-logloss hasn't improved in 200 rounds.\n",
      "Stopping. Best iteration:\n",
      "[9711]\ttrain-logloss:0.003087\tvalid_data-logloss:0.004689\n",
      "\n",
      "Fold 5 startd at Thu Apr  9 22:38:11 2020\n",
      "[0]\ttrain-logloss:0.692197\tvalid_data-logloss:0.69225\n",
      "Multiple eval metrics have been passed: 'valid_data-logloss' will be used for early stopping.\n",
      "\n",
      "Will train until valid_data-logloss hasn't improved in 200 rounds.\n",
      "Stopping. Best iteration:\n",
      "[9735]\ttrain-logloss:0.003096\tvalid_data-logloss:0.005651\n",
      "\n"
     ]
    },
    {
     "data": {
      "text/plain": [
       "<Figure size 432x288 with 0 Axes>"
      ]
     },
     "metadata": {},
     "output_type": "display_data"
    },
    {
     "data": {
      "image/png": "[encoded data removed]",
      "text/plain": [
       "<Figure size 360x360 with 1 Axes>"
      ]
     },
     "metadata": {
      "needs_background": "light"
     },
     "output_type": "display_data"
    }
   ],
   "source": [
    "params_xgb = {\n",
    "    'objective': 'binary:logistic',\n",
    "    'eval_metric': 'logloss',\n",
    "    'max_depth': 10,\n",
    "    'learning_rate': 0.001,\n",
    "    'gamma': 0.25,\n",
    "    'subsample': 1,\n",
    "    'verbosity': 0\n",
    "}\n",
    "y_pred = ml_classification(X, X_test, y, y_test, params=params_xgb,\n",
    "                           n_folds=5, model_type='xgb',\n",
    "                           columns=columns, roc=True)"
   ]
  },
  {
   "cell_type": "code",
   "execution_count": 39,
   "metadata": {},
   "outputs": [
    {
     "data": {
      "text/plain": [
       "array([[640,   1],\n",
       "       [  7,  45]], dtype=int64)"
      ]
     },
     "execution_count": 39,
     "metadata": {},
     "output_type": "execute_result"
    }
   ],
   "source": [
    "confusion_matrix((y_pred > 0.5).astype('int'), y_test)"
   ]
  }
 ],
 "metadata": {
  "kernelspec": {
   "display_name": "Python 3",
   "language": "python",
   "name": "python3"
  },
  "language_info": {
   "codemirror_mode": {
    "name": "ipython",
    "version": 3
   },
   "file_extension": ".py",
   "mimetype": "text/x-python",
   "name": "python",
   "nbconvert_exporter": "python",
   "pygments_lexer": "ipython3",
   "version": "3.7.4"
  }
 },
 "nbformat": 4,
 "nbformat_minor": 2
}
