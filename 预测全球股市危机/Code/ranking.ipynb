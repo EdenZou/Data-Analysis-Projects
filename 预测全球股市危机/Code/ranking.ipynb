{
 "cells": [
  {
   "cell_type": "code",
   "execution_count": 1,
   "metadata": {},
   "outputs": [],
   "source": [
    "import pandas as pd\n",
    "import numpy as np"
   ]
  },
  {
   "cell_type": "code",
   "execution_count": 7,
   "metadata": {},
   "outputs": [],
   "source": [
    "boruta = pd.read_csv('boruta.variable.csv')\n",
    "df_boruta = pd.DataFrame(boruta['x'])"
   ]
  },
  {
   "cell_type": "code",
   "execution_count": 9,
   "metadata": {},
   "outputs": [],
   "source": [
    "lasso = pd.read_csv('lasso.variable.csv')\n",
    "df_lasso = pd.DataFrame(lasso['x'])"
   ]
  },
  {
   "cell_type": "code",
   "execution_count": 13,
   "metadata": {},
   "outputs": [],
   "source": [
    "VI = pd.read_csv('VI.variable.csv')\n",
    "df_VI = pd.DataFrame(VI['x'])"
   ]
  },
  {
   "cell_type": "code",
   "execution_count": 54,
   "metadata": {},
   "outputs": [],
   "source": [
    "ndf_VI = pd.DataFrame(np.zeros(len(df_VI.values))+0.2, index =df_VI['x'],columns = ['weight'])\n",
    "ndf_boruta = pd.DataFrame(np.zeros(len(df_boruta.values))+0.6, index =df_boruta['x'],columns = ['weight'])\n",
    "ndf_lasso = pd.DataFrame(np.zeros(len(df_lasso.values))+0.2, index =df_lasso['x'],columns = ['weight'])"
   ]
  },
  {
   "cell_type": "code",
   "execution_count": 62,
   "metadata": {},
   "outputs": [],
   "source": [
    "tmp = ndf_boruta.add(ndf_lasso, fill_value = 0)\n",
    "df_rank = ndf_VI.add(tmp, fill_value = 0)"
   ]
  },
  {
   "cell_type": "code",
   "execution_count": 68,
   "metadata": {},
   "outputs": [],
   "source": [
    "df_sorted = df_rank.sort_values(by = 'weight',ascending = False)"
   ]
  },
  {
   "cell_type": "code",
   "execution_count": 70,
   "metadata": {},
   "outputs": [],
   "source": [
    "df_sorted.to_csv('sorted_variables.csv')"
   ]
  },
  {
   "cell_type": "code",
   "execution_count": null,
   "metadata": {},
   "outputs": [],
   "source": []
  }
 ],
 "metadata": {
  "kernelspec": {
   "display_name": "Python 3",
   "language": "python",
   "name": "python3"
  },
  "language_info": {
   "codemirror_mode": {
    "name": "ipython",
    "version": 3
   },
   "file_extension": ".py",
   "mimetype": "text/x-python",
   "name": "python",
   "nbconvert_exporter": "python",
   "pygments_lexer": "ipython3",
   "version": "3.7.4"
  }
 },
 "nbformat": 4,
 "nbformat_minor": 2
}
